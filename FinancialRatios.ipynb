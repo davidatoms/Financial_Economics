{
 "cells": [
  {
   "cell_type": "code",
   "execution_count": 1,
   "id": "initial_id",
   "metadata": {
    "collapsed": true,
    "ExecuteTime": {
     "end_time": "2024-05-01T22:45:02.431990400Z",
     "start_time": "2024-05-01T22:45:02.430183700Z"
    }
   },
   "outputs": [],
   "source": [
    "# David Adams\n",
    "# Purpose of the assignment, recommend a buy if the stock is undervalued and market is favorable, recommend a sell if the stock is overvalued and market is unfavorable, or recommend a hold if the stock is fairly valued."
   ]
  },
  {
   "cell_type": "code",
   "outputs": [],
   "source": [
    "# Import the libraries\n",
    "import numpy as np\n",
    "import pandas as pd\n",
    "import matplotlib.pyplot as plt\n",
    "import yfinance as yf\n",
    "import datetime as dt"
   ],
   "metadata": {
    "collapsed": false,
    "ExecuteTime": {
     "end_time": "2024-05-01T22:45:08.659103600Z",
     "start_time": "2024-05-01T22:45:08.512632600Z"
    }
   },
   "id": "d5d649ebc9eaa35c",
   "execution_count": 2
  },
  {
   "cell_type": "code",
   "outputs": [
    {
     "name": "stderr",
     "output_type": "stream",
     "text": [
      "[*********************100%%**********************]  1 of 1 completed\n"
     ]
    }
   ],
   "source": [
    "# Download the last five years of data for SLCA\n",
    "start = dt.datetime(2019,1,1)\n",
    "end = dt.datetime(2024,4,25)\n",
    "\n",
    "SLCA = yf.download('SLCA', start=start, end=end)"
   ],
   "metadata": {
    "collapsed": false,
    "ExecuteTime": {
     "end_time": "2024-05-01T23:07:50.244605300Z",
     "start_time": "2024-05-01T23:07:50.209710400Z"
    }
   },
   "id": "58c8ca7f445449de",
   "execution_count": 40
  },
  {
   "cell_type": "code",
   "outputs": [
    {
     "data": {
      "text/plain": "             Open   High    Low  Close  Adj Close   Volume\nDate                                                      \n2019-01-02   9.98  11.46   9.79  11.25  10.790319  2913600\n2019-01-03  11.20  11.57  10.38  11.17  10.713589  2809100\n2019-01-04  11.45  11.87  11.29  11.78  11.298663  2487400\n2019-01-07  11.16  12.23  11.11  12.10  11.605589  2718700\n2019-01-08  12.32  12.42  11.37  11.58  11.106836  2899300",
      "text/html": "<div>\n<style scoped>\n    .dataframe tbody tr th:only-of-type {\n        vertical-align: middle;\n    }\n\n    .dataframe tbody tr th {\n        vertical-align: top;\n    }\n\n    .dataframe thead th {\n        text-align: right;\n    }\n</style>\n<table border=\"1\" class=\"dataframe\">\n  <thead>\n    <tr style=\"text-align: right;\">\n      <th></th>\n      <th>Open</th>\n      <th>High</th>\n      <th>Low</th>\n      <th>Close</th>\n      <th>Adj Close</th>\n      <th>Volume</th>\n    </tr>\n    <tr>\n      <th>Date</th>\n      <th></th>\n      <th></th>\n      <th></th>\n      <th></th>\n      <th></th>\n      <th></th>\n    </tr>\n  </thead>\n  <tbody>\n    <tr>\n      <th>2019-01-02</th>\n      <td>9.98</td>\n      <td>11.46</td>\n      <td>9.79</td>\n      <td>11.25</td>\n      <td>10.790319</td>\n      <td>2913600</td>\n    </tr>\n    <tr>\n      <th>2019-01-03</th>\n      <td>11.20</td>\n      <td>11.57</td>\n      <td>10.38</td>\n      <td>11.17</td>\n      <td>10.713589</td>\n      <td>2809100</td>\n    </tr>\n    <tr>\n      <th>2019-01-04</th>\n      <td>11.45</td>\n      <td>11.87</td>\n      <td>11.29</td>\n      <td>11.78</td>\n      <td>11.298663</td>\n      <td>2487400</td>\n    </tr>\n    <tr>\n      <th>2019-01-07</th>\n      <td>11.16</td>\n      <td>12.23</td>\n      <td>11.11</td>\n      <td>12.10</td>\n      <td>11.605589</td>\n      <td>2718700</td>\n    </tr>\n    <tr>\n      <th>2019-01-08</th>\n      <td>12.32</td>\n      <td>12.42</td>\n      <td>11.37</td>\n      <td>11.58</td>\n      <td>11.106836</td>\n      <td>2899300</td>\n    </tr>\n  </tbody>\n</table>\n</div>"
     },
     "execution_count": 41,
     "metadata": {},
     "output_type": "execute_result"
    }
   ],
   "source": [
    "SLCA.head()"
   ],
   "metadata": {
    "collapsed": false,
    "ExecuteTime": {
     "end_time": "2024-05-01T23:07:51.311578Z",
     "start_time": "2024-05-01T23:07:51.307227Z"
    }
   },
   "id": "ad8d93da9742b3aa",
   "execution_count": 41
  },
  {
   "cell_type": "code",
   "outputs": [],
   "source": [
    "# Get the income statement, balance sheet, and cash flow statement for SLCA\n",
    "SLCA_IS = yf.Ticker('SLCA').financials.transpose()\n",
    "SLCA_BS = yf.Ticker('SLCA').balance_sheet.transpose()\n",
    "SLCA_CF = yf.Ticker('SLCA').cashflow.transpose()"
   ],
   "metadata": {
    "collapsed": false,
    "ExecuteTime": {
     "end_time": "2024-05-01T23:07:53.342701500Z",
     "start_time": "2024-05-01T23:07:53.287919900Z"
    }
   },
   "id": "c3239304d9e2fec8",
   "execution_count": 42
  },
  {
   "cell_type": "code",
   "outputs": [
    {
     "data": {
      "text/plain": "           Tax Effect Of Unusual Items Tax Rate For Calcs Normalized EBITDA  \\\n2023-12-31                         0.0               0.25       434537000.0   \n2022-12-31                         0.0               0.25       321763000.0   \n2021-12-31               -15009.979502           0.074307       195414000.0   \n2020-12-31            -37934119.339755           0.342712       170994000.0   \n\n           Total Unusual Items Total Unusual Items Excluding Goodwill  \\\n2023-12-31                 0.0                                    0.0   \n2022-12-31                 0.0                                    0.0   \n2021-12-31           -202000.0                              -202000.0   \n2020-12-31        -110688000.0                           -110688000.0   \n\n           Net Income From Continuing Operation Net Minority Interest  \\\n2023-12-31                                        146925000.0           \n2022-12-31                                         78176000.0           \n2021-12-31                                        -33761000.0           \n2020-12-31                                       -114094000.0           \n\n           Reconciled Depreciation Reconciled Cost Of Revenue       EBITDA  \\\n2023-12-31             137259000.0               1020627000.0  434537000.0   \n2022-12-31             140166000.0               1070189000.0  321763000.0   \n2021-12-31             161131000.0                794983000.0  195212000.0   \n2020-12-31             155568000.0                575070000.0   60306000.0   \n\n                   EBIT  ... Net Non Operating Interest Income Expense  \\\n2023-12-31  297278000.0  ...                              -101709000.0   \n2022-12-31  181597000.0  ...                               -77598000.0   \n2021-12-31   34081000.0  ...                               -71157000.0   \n2020-12-31  -95262000.0  ...                               -79885000.0   \n\n           Interest Expense Non Operating Operating Income Operating Expense  \\\n2023-12-31                    101709000.0      275339000.0       256056000.0   \n2022-12-31                     77598000.0      170954000.0       284004000.0   \n2021-12-31                     71157000.0       28137000.0       280759000.0   \n2020-12-31                     79885000.0       -8924000.0       279739000.0   \n\n           Depreciation Amortization Depletion Income Statement  \\\n2023-12-31                                        137259000.0     \n2022-12-31                                        140166000.0     \n2021-12-31                                        161131000.0     \n2020-12-31                                        155568000.0     \n\n           Selling General And Administration Gross Profit Cost Of Revenue  \\\n2023-12-31                        118797000.0  531395000.0    1020627000.0   \n2022-12-31                        143838000.0  454958000.0    1070189000.0   \n2021-12-31                        119628000.0  308896000.0     794983000.0   \n2020-12-31                        124171000.0  270815000.0     575070000.0   \n\n           Total Revenue Operating Revenue  \n2023-12-31  1552022000.0      1552022000.0  \n2022-12-31  1525147000.0      1525147000.0  \n2021-12-31  1103879000.0      1103879000.0  \n2020-12-31   845885000.0       845885000.0  \n\n[4 rows x 43 columns]",
      "text/html": "<div>\n<style scoped>\n    .dataframe tbody tr th:only-of-type {\n        vertical-align: middle;\n    }\n\n    .dataframe tbody tr th {\n        vertical-align: top;\n    }\n\n    .dataframe thead th {\n        text-align: right;\n    }\n</style>\n<table border=\"1\" class=\"dataframe\">\n  <thead>\n    <tr style=\"text-align: right;\">\n      <th></th>\n      <th>Tax Effect Of Unusual Items</th>\n      <th>Tax Rate For Calcs</th>\n      <th>Normalized EBITDA</th>\n      <th>Total Unusual Items</th>\n      <th>Total Unusual Items Excluding Goodwill</th>\n      <th>Net Income From Continuing Operation Net Minority Interest</th>\n      <th>Reconciled Depreciation</th>\n      <th>Reconciled Cost Of Revenue</th>\n      <th>EBITDA</th>\n      <th>EBIT</th>\n      <th>...</th>\n      <th>Net Non Operating Interest Income Expense</th>\n      <th>Interest Expense Non Operating</th>\n      <th>Operating Income</th>\n      <th>Operating Expense</th>\n      <th>Depreciation Amortization Depletion Income Statement</th>\n      <th>Selling General And Administration</th>\n      <th>Gross Profit</th>\n      <th>Cost Of Revenue</th>\n      <th>Total Revenue</th>\n      <th>Operating Revenue</th>\n    </tr>\n  </thead>\n  <tbody>\n    <tr>\n      <th>2023-12-31</th>\n      <td>0.0</td>\n      <td>0.25</td>\n      <td>434537000.0</td>\n      <td>0.0</td>\n      <td>0.0</td>\n      <td>146925000.0</td>\n      <td>137259000.0</td>\n      <td>1020627000.0</td>\n      <td>434537000.0</td>\n      <td>297278000.0</td>\n      <td>...</td>\n      <td>-101709000.0</td>\n      <td>101709000.0</td>\n      <td>275339000.0</td>\n      <td>256056000.0</td>\n      <td>137259000.0</td>\n      <td>118797000.0</td>\n      <td>531395000.0</td>\n      <td>1020627000.0</td>\n      <td>1552022000.0</td>\n      <td>1552022000.0</td>\n    </tr>\n    <tr>\n      <th>2022-12-31</th>\n      <td>0.0</td>\n      <td>0.25</td>\n      <td>321763000.0</td>\n      <td>0.0</td>\n      <td>0.0</td>\n      <td>78176000.0</td>\n      <td>140166000.0</td>\n      <td>1070189000.0</td>\n      <td>321763000.0</td>\n      <td>181597000.0</td>\n      <td>...</td>\n      <td>-77598000.0</td>\n      <td>77598000.0</td>\n      <td>170954000.0</td>\n      <td>284004000.0</td>\n      <td>140166000.0</td>\n      <td>143838000.0</td>\n      <td>454958000.0</td>\n      <td>1070189000.0</td>\n      <td>1525147000.0</td>\n      <td>1525147000.0</td>\n    </tr>\n    <tr>\n      <th>2021-12-31</th>\n      <td>-15009.979502</td>\n      <td>0.074307</td>\n      <td>195414000.0</td>\n      <td>-202000.0</td>\n      <td>-202000.0</td>\n      <td>-33761000.0</td>\n      <td>161131000.0</td>\n      <td>794983000.0</td>\n      <td>195212000.0</td>\n      <td>34081000.0</td>\n      <td>...</td>\n      <td>-71157000.0</td>\n      <td>71157000.0</td>\n      <td>28137000.0</td>\n      <td>280759000.0</td>\n      <td>161131000.0</td>\n      <td>119628000.0</td>\n      <td>308896000.0</td>\n      <td>794983000.0</td>\n      <td>1103879000.0</td>\n      <td>1103879000.0</td>\n    </tr>\n    <tr>\n      <th>2020-12-31</th>\n      <td>-37934119.339755</td>\n      <td>0.342712</td>\n      <td>170994000.0</td>\n      <td>-110688000.0</td>\n      <td>-110688000.0</td>\n      <td>-114094000.0</td>\n      <td>155568000.0</td>\n      <td>575070000.0</td>\n      <td>60306000.0</td>\n      <td>-95262000.0</td>\n      <td>...</td>\n      <td>-79885000.0</td>\n      <td>79885000.0</td>\n      <td>-8924000.0</td>\n      <td>279739000.0</td>\n      <td>155568000.0</td>\n      <td>124171000.0</td>\n      <td>270815000.0</td>\n      <td>575070000.0</td>\n      <td>845885000.0</td>\n      <td>845885000.0</td>\n    </tr>\n  </tbody>\n</table>\n<p>4 rows × 43 columns</p>\n</div>"
     },
     "execution_count": 43,
     "metadata": {},
     "output_type": "execute_result"
    }
   ],
   "source": [
    "SLCA_IS.head()"
   ],
   "metadata": {
    "collapsed": false,
    "ExecuteTime": {
     "end_time": "2024-05-01T23:07:55.657283700Z",
     "start_time": "2024-05-01T23:07:55.641342500Z"
    }
   },
   "id": "67e1e3136656320",
   "execution_count": 43
  },
  {
   "cell_type": "code",
   "outputs": [
    {
     "data": {
      "text/plain": "           Treasury Shares Number Ordinary Shares Number Share Issued  \\\n2023-12-31             10777871.0             77192239.0   77192239.0   \n2022-12-31              9892597.0             75738512.0   75738512.0   \n2021-12-31              9712842.0             75033352.0   75033352.0   \n2020-12-31              9156610.0             73986566.0   73986566.0   \n\n                Net Debt    Total Debt Tangible Book Value Invested Capital  \\\n2023-12-31   594321000.0   913695000.0         532275000.0     1689345000.0   \n2022-12-31   776148000.0  1141244000.0         370227000.0     1753678000.0   \n2021-12-31   971995000.0  1301019000.0         268512000.0     1815635000.0   \n2020-12-31  1088782000.0  1333451000.0         270029000.0     1854962000.0   \n\n           Working Capital Net Tangible Assets Capital Lease Obligations  ...  \\\n2023-12-31     414894000.0         532275000.0                73658000.0  ...   \n2022-12-31     385334000.0         370227000.0                84251000.0  ...   \n2021-12-31     370044000.0         268512000.0                89599000.0  ...   \n2020-12-31     291418000.0         270029000.0                93749000.0  ...   \n\n              Inventory Finished Goods Raw Materials  Receivables  \\\n2023-12-31  149429000.0     29865000.0   119564000.0  185917000.0   \n2022-12-31  147626000.0     45779000.0   101847000.0  208631000.0   \n2021-12-31  115713000.0     33579000.0    82134000.0  202759000.0   \n2020-12-31  104684000.0     28632000.0    76052000.0  206934000.0   \n\n           Other Receivables Accounts Receivable  \\\n2023-12-31         1051000.0         184866000.0   \n2022-12-31         4639000.0         203992000.0   \n2021-12-31        25015000.0         177744000.0   \n2020-12-31        42308000.0         164626000.0   \n\n           Allowance For Doubtful Accounts Receivable  \\\n2023-12-31                                 -5323000.0   \n2022-12-31                                 -5691000.0   \n2021-12-31                                 -5248000.0   \n2020-12-31                                 -6604000.0   \n\n           Gross Accounts Receivable  \\\n2023-12-31               190189000.0   \n2022-12-31               209683000.0   \n2021-12-31               182992000.0   \n2020-12-31               171230000.0   \n\n           Cash Cash Equivalents And Short Term Investments  \\\n2023-12-31                                      245716000.0   \n2022-12-31                                      280845000.0   \n2021-12-31                                      239425000.0   \n2020-12-31                                      150920000.0   \n\n           Cash And Cash Equivalents  \n2023-12-31               245716000.0  \n2022-12-31               280845000.0  \n2021-12-31               239425000.0  \n2020-12-31               150920000.0  \n\n[4 rows x 76 columns]",
      "text/html": "<div>\n<style scoped>\n    .dataframe tbody tr th:only-of-type {\n        vertical-align: middle;\n    }\n\n    .dataframe tbody tr th {\n        vertical-align: top;\n    }\n\n    .dataframe thead th {\n        text-align: right;\n    }\n</style>\n<table border=\"1\" class=\"dataframe\">\n  <thead>\n    <tr style=\"text-align: right;\">\n      <th></th>\n      <th>Treasury Shares Number</th>\n      <th>Ordinary Shares Number</th>\n      <th>Share Issued</th>\n      <th>Net Debt</th>\n      <th>Total Debt</th>\n      <th>Tangible Book Value</th>\n      <th>Invested Capital</th>\n      <th>Working Capital</th>\n      <th>Net Tangible Assets</th>\n      <th>Capital Lease Obligations</th>\n      <th>...</th>\n      <th>Inventory</th>\n      <th>Finished Goods</th>\n      <th>Raw Materials</th>\n      <th>Receivables</th>\n      <th>Other Receivables</th>\n      <th>Accounts Receivable</th>\n      <th>Allowance For Doubtful Accounts Receivable</th>\n      <th>Gross Accounts Receivable</th>\n      <th>Cash Cash Equivalents And Short Term Investments</th>\n      <th>Cash And Cash Equivalents</th>\n    </tr>\n  </thead>\n  <tbody>\n    <tr>\n      <th>2023-12-31</th>\n      <td>10777871.0</td>\n      <td>77192239.0</td>\n      <td>77192239.0</td>\n      <td>594321000.0</td>\n      <td>913695000.0</td>\n      <td>532275000.0</td>\n      <td>1689345000.0</td>\n      <td>414894000.0</td>\n      <td>532275000.0</td>\n      <td>73658000.0</td>\n      <td>...</td>\n      <td>149429000.0</td>\n      <td>29865000.0</td>\n      <td>119564000.0</td>\n      <td>185917000.0</td>\n      <td>1051000.0</td>\n      <td>184866000.0</td>\n      <td>-5323000.0</td>\n      <td>190189000.0</td>\n      <td>245716000.0</td>\n      <td>245716000.0</td>\n    </tr>\n    <tr>\n      <th>2022-12-31</th>\n      <td>9892597.0</td>\n      <td>75738512.0</td>\n      <td>75738512.0</td>\n      <td>776148000.0</td>\n      <td>1141244000.0</td>\n      <td>370227000.0</td>\n      <td>1753678000.0</td>\n      <td>385334000.0</td>\n      <td>370227000.0</td>\n      <td>84251000.0</td>\n      <td>...</td>\n      <td>147626000.0</td>\n      <td>45779000.0</td>\n      <td>101847000.0</td>\n      <td>208631000.0</td>\n      <td>4639000.0</td>\n      <td>203992000.0</td>\n      <td>-5691000.0</td>\n      <td>209683000.0</td>\n      <td>280845000.0</td>\n      <td>280845000.0</td>\n    </tr>\n    <tr>\n      <th>2021-12-31</th>\n      <td>9712842.0</td>\n      <td>75033352.0</td>\n      <td>75033352.0</td>\n      <td>971995000.0</td>\n      <td>1301019000.0</td>\n      <td>268512000.0</td>\n      <td>1815635000.0</td>\n      <td>370044000.0</td>\n      <td>268512000.0</td>\n      <td>89599000.0</td>\n      <td>...</td>\n      <td>115713000.0</td>\n      <td>33579000.0</td>\n      <td>82134000.0</td>\n      <td>202759000.0</td>\n      <td>25015000.0</td>\n      <td>177744000.0</td>\n      <td>-5248000.0</td>\n      <td>182992000.0</td>\n      <td>239425000.0</td>\n      <td>239425000.0</td>\n    </tr>\n    <tr>\n      <th>2020-12-31</th>\n      <td>9156610.0</td>\n      <td>73986566.0</td>\n      <td>73986566.0</td>\n      <td>1088782000.0</td>\n      <td>1333451000.0</td>\n      <td>270029000.0</td>\n      <td>1854962000.0</td>\n      <td>291418000.0</td>\n      <td>270029000.0</td>\n      <td>93749000.0</td>\n      <td>...</td>\n      <td>104684000.0</td>\n      <td>28632000.0</td>\n      <td>76052000.0</td>\n      <td>206934000.0</td>\n      <td>42308000.0</td>\n      <td>164626000.0</td>\n      <td>-6604000.0</td>\n      <td>171230000.0</td>\n      <td>150920000.0</td>\n      <td>150920000.0</td>\n    </tr>\n  </tbody>\n</table>\n<p>4 rows × 76 columns</p>\n</div>"
     },
     "execution_count": 44,
     "metadata": {},
     "output_type": "execute_result"
    }
   ],
   "source": [
    "SLCA_BS.head()"
   ],
   "metadata": {
    "collapsed": false,
    "ExecuteTime": {
     "end_time": "2024-05-01T23:08:16.382565200Z",
     "start_time": "2024-05-01T23:08:16.368781900Z"
    }
   },
   "id": "84c0a7370444b3c8",
   "execution_count": 44
  },
  {
   "cell_type": "code",
   "outputs": [
    {
     "data": {
      "text/plain": "           Free Cash Flow Repurchase Of Capital Stock Repayment Of Debt  \\\n2023-12-31    198398000.0                         NaN      -200701000.0   \n2022-12-31    209154000.0                         NaN      -166658000.0   \n2021-12-31    138830000.0                         NaN       -44939000.0   \n2020-12-31    -38320000.0                         0.0       -23161000.0   \n\n           Issuance Of Debt Capital Expenditure  \\\n2023-12-31              NaN         -65470000.0   \n2022-12-31              0.0         -53562000.0   \n2021-12-31              NaN         -30517000.0   \n2020-12-31       25000000.0         -34917000.0   \n\n           Interest Paid Supplemental Data Income Tax Paid Supplemental Data  \\\n2023-12-31                      95133000.0                               NaN   \n2022-12-31                      71235000.0                        14809000.0   \n2021-12-31                      64650000.0                        12994000.0   \n2020-12-31                      73695000.0                               NaN   \n\n           End Cash Position Beginning Cash Position Changes In Cash  ...  \\\n2023-12-31       245716000.0             280845000.0     -35129000.0  ...   \n2022-12-31       280845000.0             239425000.0      41420000.0  ...   \n2021-12-31       239425000.0             150920000.0      88505000.0  ...   \n2020-12-31       150920000.0             185740000.0     -34820000.0  ...   \n\n           Other Non Cash Items Stock Based Compensation  \\\n2023-12-31           14686000.0               14649000.0   \n2022-12-31            1947000.0               18364000.0   \n2021-12-31           16559000.0               18809000.0   \n2020-12-31          -26575000.0               14911000.0   \n\n           Provisionand Write Offof Assets Asset Impairment Charge  \\\n2023-12-31                       -103000.0                     0.0   \n2022-12-31                        617000.0                     0.0   \n2021-12-31                       -455000.0                202000.0   \n2020-12-31                       1510000.0             110688000.0   \n\n           Deferred Tax Deferred Income Tax  \\\n2023-12-31   35311000.0          35311000.0   \n2022-12-31   20940000.0          20940000.0   \n2021-12-31   -7493000.0          -7493000.0   \n2020-12-31  -61805000.0         -61805000.0   \n\n           Depreciation Amortization Depletion Operating Gains Losses  \\\n2023-12-31                         137259000.0            -17951000.0   \n2022-12-31                         140166000.0             -1005000.0   \n2021-12-31                         161131000.0              -131000.0   \n2020-12-31                         155568000.0             -2597000.0   \n\n           Gain Loss On Sale Of PPE Net Income From Continuing Operations  \n2023-12-31              -17951000.0                           146489000.0  \n2022-12-31               -1005000.0                            77840000.0  \n2021-12-31                -131000.0                           -34321000.0  \n2020-12-31               -2597000.0                          -115122000.0  \n\n[4 rows x 56 columns]",
      "text/html": "<div>\n<style scoped>\n    .dataframe tbody tr th:only-of-type {\n        vertical-align: middle;\n    }\n\n    .dataframe tbody tr th {\n        vertical-align: top;\n    }\n\n    .dataframe thead th {\n        text-align: right;\n    }\n</style>\n<table border=\"1\" class=\"dataframe\">\n  <thead>\n    <tr style=\"text-align: right;\">\n      <th></th>\n      <th>Free Cash Flow</th>\n      <th>Repurchase Of Capital Stock</th>\n      <th>Repayment Of Debt</th>\n      <th>Issuance Of Debt</th>\n      <th>Capital Expenditure</th>\n      <th>Interest Paid Supplemental Data</th>\n      <th>Income Tax Paid Supplemental Data</th>\n      <th>End Cash Position</th>\n      <th>Beginning Cash Position</th>\n      <th>Changes In Cash</th>\n      <th>...</th>\n      <th>Other Non Cash Items</th>\n      <th>Stock Based Compensation</th>\n      <th>Provisionand Write Offof Assets</th>\n      <th>Asset Impairment Charge</th>\n      <th>Deferred Tax</th>\n      <th>Deferred Income Tax</th>\n      <th>Depreciation Amortization Depletion</th>\n      <th>Operating Gains Losses</th>\n      <th>Gain Loss On Sale Of PPE</th>\n      <th>Net Income From Continuing Operations</th>\n    </tr>\n  </thead>\n  <tbody>\n    <tr>\n      <th>2023-12-31</th>\n      <td>198398000.0</td>\n      <td>NaN</td>\n      <td>-200701000.0</td>\n      <td>NaN</td>\n      <td>-65470000.0</td>\n      <td>95133000.0</td>\n      <td>NaN</td>\n      <td>245716000.0</td>\n      <td>280845000.0</td>\n      <td>-35129000.0</td>\n      <td>...</td>\n      <td>14686000.0</td>\n      <td>14649000.0</td>\n      <td>-103000.0</td>\n      <td>0.0</td>\n      <td>35311000.0</td>\n      <td>35311000.0</td>\n      <td>137259000.0</td>\n      <td>-17951000.0</td>\n      <td>-17951000.0</td>\n      <td>146489000.0</td>\n    </tr>\n    <tr>\n      <th>2022-12-31</th>\n      <td>209154000.0</td>\n      <td>NaN</td>\n      <td>-166658000.0</td>\n      <td>0.0</td>\n      <td>-53562000.0</td>\n      <td>71235000.0</td>\n      <td>14809000.0</td>\n      <td>280845000.0</td>\n      <td>239425000.0</td>\n      <td>41420000.0</td>\n      <td>...</td>\n      <td>1947000.0</td>\n      <td>18364000.0</td>\n      <td>617000.0</td>\n      <td>0.0</td>\n      <td>20940000.0</td>\n      <td>20940000.0</td>\n      <td>140166000.0</td>\n      <td>-1005000.0</td>\n      <td>-1005000.0</td>\n      <td>77840000.0</td>\n    </tr>\n    <tr>\n      <th>2021-12-31</th>\n      <td>138830000.0</td>\n      <td>NaN</td>\n      <td>-44939000.0</td>\n      <td>NaN</td>\n      <td>-30517000.0</td>\n      <td>64650000.0</td>\n      <td>12994000.0</td>\n      <td>239425000.0</td>\n      <td>150920000.0</td>\n      <td>88505000.0</td>\n      <td>...</td>\n      <td>16559000.0</td>\n      <td>18809000.0</td>\n      <td>-455000.0</td>\n      <td>202000.0</td>\n      <td>-7493000.0</td>\n      <td>-7493000.0</td>\n      <td>161131000.0</td>\n      <td>-131000.0</td>\n      <td>-131000.0</td>\n      <td>-34321000.0</td>\n    </tr>\n    <tr>\n      <th>2020-12-31</th>\n      <td>-38320000.0</td>\n      <td>0.0</td>\n      <td>-23161000.0</td>\n      <td>25000000.0</td>\n      <td>-34917000.0</td>\n      <td>73695000.0</td>\n      <td>NaN</td>\n      <td>150920000.0</td>\n      <td>185740000.0</td>\n      <td>-34820000.0</td>\n      <td>...</td>\n      <td>-26575000.0</td>\n      <td>14911000.0</td>\n      <td>1510000.0</td>\n      <td>110688000.0</td>\n      <td>-61805000.0</td>\n      <td>-61805000.0</td>\n      <td>155568000.0</td>\n      <td>-2597000.0</td>\n      <td>-2597000.0</td>\n      <td>-115122000.0</td>\n    </tr>\n  </tbody>\n</table>\n<p>4 rows × 56 columns</p>\n</div>"
     },
     "execution_count": 45,
     "metadata": {},
     "output_type": "execute_result"
    }
   ],
   "source": [
    "SLCA_CF.head()"
   ],
   "metadata": {
    "collapsed": false,
    "ExecuteTime": {
     "end_time": "2024-05-01T23:08:17.144195300Z",
     "start_time": "2024-05-01T23:08:17.139638Z"
    }
   },
   "id": "60df5e190a9b7506",
   "execution_count": 45
  },
  {
   "cell_type": "code",
   "outputs": [
    {
     "data": {
      "text/plain": "Index(['Tax Effect Of Unusual Items', 'Tax Rate For Calcs',\n       'Normalized EBITDA', 'Total Unusual Items',\n       'Total Unusual Items Excluding Goodwill',\n       'Net Income From Continuing Operation Net Minority Interest',\n       'Reconciled Depreciation', 'Reconciled Cost Of Revenue', 'EBITDA',\n       'EBIT', 'Net Interest Income', 'Interest Expense', 'Normalized Income',\n       'Net Income From Continuing And Discontinued Operation',\n       'Total Expenses', 'Total Operating Income As Reported',\n       'Diluted Average Shares', 'Basic Average Shares', 'Diluted EPS',\n       'Basic EPS', 'Diluted NI Availto Com Stockholders',\n       'Net Income Common Stockholders', 'Net Income', 'Minority Interests',\n       'Net Income Including Noncontrolling Interests',\n       'Net Income Continuous Operations', 'Tax Provision', 'Pretax Income',\n       'Other Income Expense', 'Other Non Operating Income Expenses',\n       'Special Income Charges', 'Write Off', 'Impairment Of Capital Assets',\n       'Net Non Operating Interest Income Expense',\n       'Interest Expense Non Operating', 'Operating Income',\n       'Operating Expense',\n       'Depreciation Amortization Depletion Income Statement',\n       'Selling General And Administration', 'Gross Profit', 'Cost Of Revenue',\n       'Total Revenue', 'Operating Revenue'],\n      dtype='object')"
     },
     "execution_count": 46,
     "metadata": {},
     "output_type": "execute_result"
    }
   ],
   "source": [
    "SLCA_IS.columns"
   ],
   "metadata": {
    "collapsed": false,
    "ExecuteTime": {
     "end_time": "2024-05-01T23:08:18.329186300Z",
     "start_time": "2024-05-01T23:08:18.325169900Z"
    }
   },
   "id": "1f0515051829fecf",
   "execution_count": 46
  },
  {
   "cell_type": "markdown",
   "source": [
    "__Financial Ratios Checklist__"
   ],
   "metadata": {
    "collapsed": false
   },
   "id": "f7d1edc9c6664564"
  },
  {
   "cell_type": "code",
   "outputs": [],
   "source": [
    "# Create an empty dataframe of financial ratios\n",
    "financial_ratios = pd.DataFrame()"
   ],
   "metadata": {
    "collapsed": false,
    "ExecuteTime": {
     "end_time": "2024-05-01T23:09:27.982026600Z",
     "start_time": "2024-05-01T23:09:27.978794500Z"
    }
   },
   "id": "6281d0387230b529",
   "execution_count": 48
  },
  {
   "cell_type": "code",
   "outputs": [],
   "source": [
    "# Create the gross profit calculation function\n",
    "def gross_profit(revenue, cogs):\n",
    "    return (revenue - cogs) * 100"
   ],
   "metadata": {
    "collapsed": false,
    "ExecuteTime": {
     "end_time": "2024-05-01T23:15:39.886269700Z",
     "start_time": "2024-05-01T23:15:39.876463400Z"
    }
   },
   "id": "e97219e83770548f",
   "execution_count": 61
  },
  {
   "cell_type": "code",
   "outputs": [],
   "source": [
    "# Calculate the gross profit for SLCA\n",
    "financial_ratios['Gross Profit'] = gross_profit(SLCA_IS['Total Revenue'], SLCA_IS['Cost Of Revenue'])"
   ],
   "metadata": {
    "collapsed": false,
    "ExecuteTime": {
     "end_time": "2024-05-01T23:15:40.442219400Z",
     "start_time": "2024-05-01T23:15:40.436770400Z"
    }
   },
   "id": "c2441d4a05b769fb",
   "execution_count": 62
  },
  {
   "cell_type": "code",
   "outputs": [],
   "source": [
    "# Calculate the gross profit margin and save it to the financial ratios dataframe\n",
    "financial_ratios['Gross Profit Margin'] = (SLCA_IS['Gross Profit'] / SLCA_IS['Total Revenue']) * 100\n",
    "# Create the company name for the financial ratios dataframe\n",
    "financial_ratios['Company'] = 'SLCA'"
   ],
   "metadata": {
    "collapsed": false,
    "ExecuteTime": {
     "end_time": "2024-05-01T23:15:41.144414500Z",
     "start_time": "2024-05-01T23:15:41.138291600Z"
    }
   },
   "id": "7b514cdb9b5511c6",
   "execution_count": 63
  },
  {
   "cell_type": "code",
   "outputs": [
    {
     "data": {
      "text/plain": "             Gross Profit Gross Profit Margin Company Operating Profit Margin  \\\n2023-12-31  53139500000.0           34.238883    SLCA               19.154239   \n2022-12-31  45495800000.0           29.830436    SLCA               11.906852   \n2021-12-31  30889600000.0           27.982777    SLCA                3.087385   \n2020-12-31  27081500000.0           32.015581    SLCA              -11.261815   \n\n           Net Profit Margin  \n2023-12-31          9.466683  \n2022-12-31          5.125801  \n2021-12-31         -3.058397  \n2020-12-31        -13.488122  ",
      "text/html": "<div>\n<style scoped>\n    .dataframe tbody tr th:only-of-type {\n        vertical-align: middle;\n    }\n\n    .dataframe tbody tr th {\n        vertical-align: top;\n    }\n\n    .dataframe thead th {\n        text-align: right;\n    }\n</style>\n<table border=\"1\" class=\"dataframe\">\n  <thead>\n    <tr style=\"text-align: right;\">\n      <th></th>\n      <th>Gross Profit</th>\n      <th>Gross Profit Margin</th>\n      <th>Company</th>\n      <th>Operating Profit Margin</th>\n      <th>Net Profit Margin</th>\n    </tr>\n  </thead>\n  <tbody>\n    <tr>\n      <th>2023-12-31</th>\n      <td>53139500000.0</td>\n      <td>34.238883</td>\n      <td>SLCA</td>\n      <td>19.154239</td>\n      <td>9.466683</td>\n    </tr>\n    <tr>\n      <th>2022-12-31</th>\n      <td>45495800000.0</td>\n      <td>29.830436</td>\n      <td>SLCA</td>\n      <td>11.906852</td>\n      <td>5.125801</td>\n    </tr>\n    <tr>\n      <th>2021-12-31</th>\n      <td>30889600000.0</td>\n      <td>27.982777</td>\n      <td>SLCA</td>\n      <td>3.087385</td>\n      <td>-3.058397</td>\n    </tr>\n    <tr>\n      <th>2020-12-31</th>\n      <td>27081500000.0</td>\n      <td>32.015581</td>\n      <td>SLCA</td>\n      <td>-11.261815</td>\n      <td>-13.488122</td>\n    </tr>\n  </tbody>\n</table>\n</div>"
     },
     "execution_count": 64,
     "metadata": {},
     "output_type": "execute_result"
    }
   ],
   "source": [
    "financial_ratios.head()"
   ],
   "metadata": {
    "collapsed": false,
    "ExecuteTime": {
     "end_time": "2024-05-01T23:15:41.910094Z",
     "start_time": "2024-05-01T23:15:41.901517800Z"
    }
   },
   "id": "527cc371acaac06c",
   "execution_count": 64
  },
  {
   "cell_type": "code",
   "outputs": [],
   "source": [
    "# Function to calculate operating profit margin\n",
    "def operating_profit_margin(op, revenue):\n",
    "    return (op / revenue) * 100"
   ],
   "metadata": {
    "collapsed": false,
    "ExecuteTime": {
     "end_time": "2024-05-01T23:15:46.564691Z",
     "start_time": "2024-05-01T23:15:46.560196700Z"
    }
   },
   "id": "cc6abc08ddf32f6e",
   "execution_count": 65
  },
  {
   "cell_type": "code",
   "outputs": [],
   "source": [
    "# Calculate the operating profit margin for SLCA\n",
    "financial_ratios['Operating Profit Margin'] = operating_profit_margin(SLCA_IS['EBIT'], SLCA_IS['Total Revenue'])"
   ],
   "metadata": {
    "collapsed": false,
    "ExecuteTime": {
     "end_time": "2024-05-01T23:15:47.084080700Z",
     "start_time": "2024-05-01T23:15:47.078884100Z"
    }
   },
   "id": "6730128169a15207",
   "execution_count": 66
  },
  {
   "cell_type": "code",
   "outputs": [],
   "source": [
    "# Function to calculate net profit margin\n",
    "def net_profit_margin(net_income, revenue):\n",
    "    return (net_income / revenue) * 100"
   ],
   "metadata": {
    "collapsed": false,
    "ExecuteTime": {
     "end_time": "2024-05-01T23:15:47.804145200Z",
     "start_time": "2024-05-01T23:15:47.802121Z"
    }
   },
   "id": "61936024ec47d05b",
   "execution_count": 67
  },
  {
   "cell_type": "code",
   "outputs": [],
   "source": [
    "# Calculate the net profit margin for SLCA\n",
    "financial_ratios['Net Profit Margin'] = net_profit_margin(SLCA_IS['Net Income'], SLCA_IS['Total Revenue'])"
   ],
   "metadata": {
    "collapsed": false,
    "ExecuteTime": {
     "end_time": "2024-05-01T23:15:48.132746Z",
     "start_time": "2024-05-01T23:15:48.129245500Z"
    }
   },
   "id": "628a32f1f77eb9d0",
   "execution_count": 68
  },
  {
   "cell_type": "code",
   "outputs": [],
   "source": [
    "# Function to calculate return on assets\n",
    "def return_on_assets(net_income, total_assets):\n",
    "    return (net_income / total_assets) * 100"
   ],
   "metadata": {
    "collapsed": false,
    "ExecuteTime": {
     "end_time": "2024-05-01T23:15:48.462427100Z",
     "start_time": "2024-05-01T23:15:48.458928100Z"
    }
   },
   "id": "9efa2f95319b764b",
   "execution_count": 69
  },
  {
   "cell_type": "code",
   "outputs": [],
   "source": [
    "# Calculate the return on assets for SLCA\n",
    "financial_ratios['Return On Assets'] = return_on_assets(SLCA_IS['Net Income'], SLCA_BS['Total Assets'])"
   ],
   "metadata": {
    "collapsed": false,
    "ExecuteTime": {
     "end_time": "2024-05-01T23:15:48.809896800Z",
     "start_time": "2024-05-01T23:15:48.795892100Z"
    }
   },
   "id": "3bbeab8812af6855",
   "execution_count": 70
  },
  {
   "cell_type": "code",
   "outputs": [],
   "source": [
    "# Function to calculate return on equity\n",
    "def return_on_equity(net_income, equity):\n",
    "    return (net_income / equity) * 100"
   ],
   "metadata": {
    "collapsed": false,
    "ExecuteTime": {
     "end_time": "2024-05-01T23:15:57.815828700Z",
     "start_time": "2024-05-01T23:15:57.806711300Z"
    }
   },
   "id": "2a420805769d9233",
   "execution_count": 71
  },
  {
   "cell_type": "code",
   "outputs": [
    {
     "data": {
      "text/plain": "Index(['Treasury Shares Number', 'Ordinary Shares Number', 'Share Issued',\n       'Net Debt', 'Total Debt', 'Tangible Book Value', 'Invested Capital',\n       'Working Capital', 'Net Tangible Assets', 'Capital Lease Obligations',\n       'Common Stock Equity', 'Total Capitalization',\n       'Total Equity Gross Minority Interest', 'Minority Interest',\n       'Stockholders Equity', 'Gains Losses Not Affecting Retained Earnings',\n       'Other Equity Adjustments', 'Treasury Stock', 'Retained Earnings',\n       'Additional Paid In Capital', 'Capital Stock', 'Common Stock',\n       'Preferred Stock', 'Total Liabilities Net Minority Interest',\n       'Total Non Current Liabilities Net Minority Interest',\n       'Other Non Current Liabilities', 'Employee Benefits',\n       'Non Current Pension And Other Postretirement Benefit Plans',\n       'Non Current Deferred Liabilities', 'Non Current Deferred Revenue',\n       'Non Current Deferred Taxes Liabilities',\n       'Long Term Debt And Capital Lease Obligation',\n       'Long Term Capital Lease Obligation', 'Long Term Debt',\n       'Current Liabilities', 'Other Current Liabilities',\n       'Current Deferred Liabilities', 'Current Deferred Revenue',\n       'Current Debt And Capital Lease Obligation',\n       'Current Capital Lease Obligation', 'Current Debt',\n       'Other Current Borrowings',\n       'Pensionand Other Post Retirement Benefit Plans Current',\n       'Payables And Accrued Expenses', 'Current Accrued Expenses', 'Payables',\n       'Total Tax Payable', 'Income Tax Payable', 'Accounts Payable',\n       'Total Assets', 'Total Non Current Assets', 'Other Non Current Assets',\n       'Goodwill And Other Intangible Assets', 'Other Intangible Assets',\n       'Goodwill', 'Net PPE', 'Accumulated Depreciation', 'Gross PPE',\n       'Construction In Progress', 'Other Properties',\n       'Machinery Furniture Equipment', 'Buildings And Improvements',\n       'Land And Improvements', 'Current Assets', 'Other Current Assets',\n       'Prepaid Assets', 'Inventory', 'Finished Goods', 'Raw Materials',\n       'Receivables', 'Other Receivables', 'Accounts Receivable',\n       'Allowance For Doubtful Accounts Receivable',\n       'Gross Accounts Receivable',\n       'Cash Cash Equivalents And Short Term Investments',\n       'Cash And Cash Equivalents'],\n      dtype='object')"
     },
     "execution_count": 73,
     "metadata": {},
     "output_type": "execute_result"
    }
   ],
   "source": [
    "SLCA_BS.columns"
   ],
   "metadata": {
    "collapsed": false,
    "ExecuteTime": {
     "end_time": "2024-05-01T23:16:16.201580700Z",
     "start_time": "2024-05-01T23:16:16.197545700Z"
    }
   },
   "id": "55a8df4aee508019",
   "execution_count": 73
  },
  {
   "cell_type": "code",
   "outputs": [],
   "source": [
    "# Calculate the return on equity for SLCA\n",
    "financial_ratios['Return On Equity'] = return_on_equity(SLCA_IS['Net Income'], SLCA_BS['Stockholders Equity'])"
   ],
   "metadata": {
    "collapsed": false,
    "ExecuteTime": {
     "end_time": "2024-05-01T23:16:43.486975900Z",
     "start_time": "2024-05-01T23:16:43.479794700Z"
    }
   },
   "id": "8ef3c8425a21f68",
   "execution_count": 74
  },
  {
   "cell_type": "code",
   "outputs": [
    {
     "data": {
      "text/plain": "Index(['Tax Effect Of Unusual Items', 'Tax Rate For Calcs',\n       'Normalized EBITDA', 'Total Unusual Items',\n       'Total Unusual Items Excluding Goodwill',\n       'Net Income From Continuing Operation Net Minority Interest',\n       'Reconciled Depreciation', 'Reconciled Cost Of Revenue', 'EBITDA',\n       'EBIT', 'Net Interest Income', 'Interest Expense', 'Normalized Income',\n       'Net Income From Continuing And Discontinued Operation',\n       'Total Expenses', 'Total Operating Income As Reported',\n       'Diluted Average Shares', 'Basic Average Shares', 'Diluted EPS',\n       'Basic EPS', 'Diluted NI Availto Com Stockholders',\n       'Net Income Common Stockholders', 'Net Income', 'Minority Interests',\n       'Net Income Including Noncontrolling Interests',\n       'Net Income Continuous Operations', 'Tax Provision', 'Pretax Income',\n       'Other Income Expense', 'Other Non Operating Income Expenses',\n       'Special Income Charges', 'Write Off', 'Impairment Of Capital Assets',\n       'Net Non Operating Interest Income Expense',\n       'Interest Expense Non Operating', 'Operating Income',\n       'Operating Expense',\n       'Depreciation Amortization Depletion Income Statement',\n       'Selling General And Administration', 'Gross Profit', 'Cost Of Revenue',\n       'Total Revenue', 'Operating Revenue'],\n      dtype='object')"
     },
     "execution_count": 78,
     "metadata": {},
     "output_type": "execute_result"
    }
   ],
   "source": [
    "# Income statement columns\n",
    "SLCA_IS.columns"
   ],
   "metadata": {
    "collapsed": false,
    "ExecuteTime": {
     "end_time": "2024-05-01T23:21:02.079809200Z",
     "start_time": "2024-05-01T23:21:02.075003100Z"
    }
   },
   "id": "4cd1b8d6480f9bc9",
   "execution_count": 78
  },
  {
   "cell_type": "code",
   "outputs": [],
   "source": [
    "SLCA_IS['Tax Rate For Calcs']\n",
    "# Save the tax rate for calculations into financial ratios\n",
    "financial_ratios['Tax Rate'] = SLCA_IS['Tax Rate For Calcs']"
   ],
   "metadata": {
    "collapsed": false,
    "ExecuteTime": {
     "end_time": "2024-05-01T23:22:25.529255900Z",
     "start_time": "2024-05-01T23:22:25.524750600Z"
    }
   },
   "id": "a09d74f88a92f8a8",
   "execution_count": 84
  },
  {
   "cell_type": "code",
   "outputs": [],
   "source": [
    "# Function to calculate return on invested capital (ROIC)\n",
    "def return_on_invested_capital(ebit, tax_rate):\n",
    "    return (ebit * (1 - tax_rate))"
   ],
   "metadata": {
    "collapsed": false,
    "ExecuteTime": {
     "end_time": "2024-05-01T23:23:15.642851600Z",
     "start_time": "2024-05-01T23:23:15.634920700Z"
    }
   },
   "id": "972d0e56bd8c131e",
   "execution_count": 86
  },
  {
   "cell_type": "code",
   "outputs": [],
   "source": [
    "financial_ratios['Return On Invested Capital'] = return_on_invested_capital(SLCA_IS['EBIT'], SLCA_IS['Tax Rate For Calcs'])"
   ],
   "metadata": {
    "collapsed": false,
    "ExecuteTime": {
     "end_time": "2024-05-01T23:24:24.603766500Z",
     "start_time": "2024-05-01T23:24:24.598616700Z"
    }
   },
   "id": "6ba420cb98bc72ed",
   "execution_count": 89
  },
  {
   "cell_type": "code",
   "outputs": [
    {
     "data": {
      "text/plain": "Index(['Tax Effect Of Unusual Items', 'Tax Rate For Calcs',\n       'Normalized EBITDA', 'Total Unusual Items',\n       'Total Unusual Items Excluding Goodwill',\n       'Net Income From Continuing Operation Net Minority Interest',\n       'Reconciled Depreciation', 'Reconciled Cost Of Revenue', 'EBITDA',\n       'EBIT', 'Net Interest Income', 'Interest Expense', 'Normalized Income',\n       'Net Income From Continuing And Discontinued Operation',\n       'Total Expenses', 'Total Operating Income As Reported',\n       'Diluted Average Shares', 'Basic Average Shares', 'Diluted EPS',\n       'Basic EPS', 'Diluted NI Availto Com Stockholders',\n       'Net Income Common Stockholders', 'Net Income', 'Minority Interests',\n       'Net Income Including Noncontrolling Interests',\n       'Net Income Continuous Operations', 'Tax Provision', 'Pretax Income',\n       'Other Income Expense', 'Other Non Operating Income Expenses',\n       'Special Income Charges', 'Write Off', 'Impairment Of Capital Assets',\n       'Net Non Operating Interest Income Expense',\n       'Interest Expense Non Operating', 'Operating Income',\n       'Operating Expense',\n       'Depreciation Amortization Depletion Income Statement',\n       'Selling General And Administration', 'Gross Profit', 'Cost Of Revenue',\n       'Total Revenue', 'Operating Revenue'],\n      dtype='object')"
     },
     "execution_count": 90,
     "metadata": {},
     "output_type": "execute_result"
    }
   ],
   "source": [
    "SLCA_IS.columns"
   ],
   "metadata": {
    "collapsed": false,
    "ExecuteTime": {
     "end_time": "2024-05-01T23:26:02.612951500Z",
     "start_time": "2024-05-01T23:26:02.604043200Z"
    }
   },
   "id": "c13592054929f3fe",
   "execution_count": 90
  },
  {
   "cell_type": "code",
   "outputs": [],
   "source": [
    "# Add Basic EPS and Diluted EPS to the financial ratios dataframe\n",
    "financial_ratios['Basic EPS'] = SLCA_IS['Basic EPS']\n",
    "financial_ratios['Diluted EPS'] = SLCA_IS['Diluted EPS']"
   ],
   "metadata": {
    "collapsed": false,
    "ExecuteTime": {
     "end_time": "2024-05-01T23:26:36.716297100Z",
     "start_time": "2024-05-01T23:26:36.706027Z"
    }
   },
   "id": "14420d9e4b2376aa",
   "execution_count": 91
  },
  {
   "cell_type": "markdown",
   "source": [
    "__Liquidity Ratios__:"
   ],
   "metadata": {
    "collapsed": false
   },
   "id": "9e655a9b1f139136"
  },
  {
   "cell_type": "code",
   "outputs": [],
   "source": [
    "# Function to calculate current ratio\n",
    "def current_ratio(current_assets, current_liabilities):\n",
    "    return current_assets / current_liabilities"
   ],
   "metadata": {
    "collapsed": false,
    "ExecuteTime": {
     "end_time": "2024-05-01T23:28:37.133355800Z",
     "start_time": "2024-05-01T23:28:37.123626600Z"
    }
   },
   "id": "5cac290210e872f1",
   "execution_count": 93
  },
  {
   "cell_type": "code",
   "outputs": [],
   "source": [
    "# Calculate the current ratio for SLCA\n",
    "financial_ratios['Current Ratio'] = current_ratio(SLCA_BS['Current Assets'], SLCA_BS['Current Liabilities'])"
   ],
   "metadata": {
    "collapsed": false,
    "ExecuteTime": {
     "end_time": "2024-05-01T23:31:52.962092900Z",
     "start_time": "2024-05-01T23:31:52.957544200Z"
    }
   },
   "id": "fdbc325546407f16",
   "execution_count": 96
  },
  {
   "cell_type": "code",
   "outputs": [],
   "source": [
    "# Function to calculate quick ratio\n",
    "def quick_ratio(current_assets, inventory, current_liabilities):\n",
    "    return (current_assets - inventory) / current_liabilities"
   ],
   "metadata": {
    "collapsed": false,
    "ExecuteTime": {
     "end_time": "2024-05-01T23:32:17.755441400Z",
     "start_time": "2024-05-01T23:32:17.737979100Z"
    }
   },
   "id": "5994b741bdeb1e9d",
   "execution_count": 97
  },
  {
   "cell_type": "code",
   "outputs": [],
   "source": [
    "# Calculate the quick ratio for SLCA\n",
    "financial_ratios['Quick Ratio'] = quick_ratio(SLCA_BS['Current Assets'], SLCA_BS['Inventory'], SLCA_BS['Current Liabilities'])"
   ],
   "metadata": {
    "collapsed": false,
    "ExecuteTime": {
     "end_time": "2024-05-01T23:32:22.938338900Z",
     "start_time": "2024-05-01T23:32:22.920279700Z"
    }
   },
   "id": "77d61f1e951810b1",
   "execution_count": 98
  },
  {
   "cell_type": "code",
   "outputs": [
    {
     "data": {
      "text/plain": "2023-12-31    532275000.0\n2022-12-31    370227000.0\n2021-12-31    268512000.0\n2020-12-31    270029000.0\nName: Tangible Book Value, dtype: object"
     },
     "execution_count": 116,
     "metadata": {},
     "output_type": "execute_result"
    }
   ],
   "source": [
    "SLCA_BS['Tangible Book Value']"
   ],
   "metadata": {
    "collapsed": false,
    "ExecuteTime": {
     "end_time": "2024-05-01T23:45:03.486161300Z",
     "start_time": "2024-05-01T23:45:03.474536400Z"
    }
   },
   "id": "680853e4f85236e5",
   "execution_count": 116
  },
  {
   "cell_type": "code",
   "outputs": [],
   "source": [
    "# Function to calculate working capital turnover\n",
    "def working_capital_turnover(revenue, working_capital):\n",
    "    return revenue / working_capital"
   ],
   "metadata": {
    "collapsed": false,
    "ExecuteTime": {
     "end_time": "2024-05-01T23:33:39.577119600Z",
     "start_time": "2024-05-01T23:33:39.562909900Z"
    }
   },
   "id": "2bb8ca9872736907",
   "execution_count": 99
  },
  {
   "cell_type": "code",
   "outputs": [],
   "source": [
    "# Calculate the working capital turnover for SLCA\n",
    "financial_ratios['Working Capital Turnover'] = working_capital_turnover(SLCA_IS['Total Revenue'], SLCA_BS['Working Capital'])"
   ],
   "metadata": {
    "collapsed": false,
    "ExecuteTime": {
     "end_time": "2024-05-01T23:34:55.713813900Z",
     "start_time": "2024-05-01T23:34:55.693804600Z"
    }
   },
   "id": "a403d256ecdb2898",
   "execution_count": 100
  },
  {
   "cell_type": "markdown",
   "source": [
    "__Leverage Ratios__:"
   ],
   "metadata": {
    "collapsed": false
   },
   "id": "74f68524365adaf7"
  },
  {
   "cell_type": "code",
   "outputs": [],
   "source": [
    "# Function to calculate debt to equity ratio\n",
    "def debt_to_equity(total_debt, equity):\n",
    "    return total_debt / equity"
   ],
   "metadata": {
    "collapsed": false,
    "ExecuteTime": {
     "end_time": "2024-05-01T23:35:30.406531700Z",
     "start_time": "2024-05-01T23:35:30.395056800Z"
    }
   },
   "id": "99ba3e14dae380bc",
   "execution_count": 102
  },
  {
   "cell_type": "code",
   "outputs": [],
   "source": [
    "# Calculate the debt to equity ratio for SLCA\n",
    "financial_ratios['Debt To Equity'] = debt_to_equity(SLCA_BS['Total Debt'], SLCA_BS['Stockholders Equity'])"
   ],
   "metadata": {
    "collapsed": false,
    "ExecuteTime": {
     "end_time": "2024-05-01T23:35:39.159426400Z",
     "start_time": "2024-05-01T23:35:39.149437700Z"
    }
   },
   "id": "eda87ed1cacbd835",
   "execution_count": 103
  },
  {
   "cell_type": "code",
   "outputs": [],
   "source": [
    "# Function to calculate debt to assets ratio\n",
    "def debt_to_assets(total_debt, total_assets):\n",
    "    return total_debt / total_assets"
   ],
   "metadata": {
    "collapsed": false,
    "ExecuteTime": {
     "end_time": "2024-05-01T23:35:51.513518500Z",
     "start_time": "2024-05-01T23:35:51.496227400Z"
    }
   },
   "id": "c288c9f5b4c68490",
   "execution_count": 104
  },
  {
   "cell_type": "code",
   "outputs": [],
   "source": [
    "# Calculate the debt to assets ratio for SLCA\n",
    "financial_ratios['Debt To Assets'] = debt_to_assets(SLCA_BS['Total Debt'], SLCA_BS['Total Assets'])"
   ],
   "metadata": {
    "collapsed": false,
    "ExecuteTime": {
     "end_time": "2024-05-01T23:35:54.315708600Z",
     "start_time": "2024-05-01T23:35:54.296253800Z"
    }
   },
   "id": "a43f67717e7685b9",
   "execution_count": 105
  },
  {
   "cell_type": "code",
   "outputs": [],
   "source": [
    "# Function to calculate interest coverage ratio\n",
    "def interest_coverage_ratio(ebit, interest_expense):\n",
    "    return ebit / interest_expense"
   ],
   "metadata": {
    "collapsed": false,
    "ExecuteTime": {
     "end_time": "2024-05-01T23:36:00.490702900Z",
     "start_time": "2024-05-01T23:36:00.477515900Z"
    }
   },
   "id": "1adff368ffb00f67",
   "execution_count": 106
  },
  {
   "cell_type": "code",
   "outputs": [],
   "source": [
    "# Calculate the interest coverage ratio for SLCA\n",
    "financial_ratios['Interest Coverage Ratio'] = interest_coverage_ratio(SLCA_IS['EBIT'], SLCA_IS['Interest Expense'])"
   ],
   "metadata": {
    "collapsed": false,
    "ExecuteTime": {
     "end_time": "2024-05-01T23:36:04.903626300Z",
     "start_time": "2024-05-01T23:36:04.888161800Z"
    }
   },
   "id": "d292ed5db607ed4e",
   "execution_count": 107
  },
  {
   "cell_type": "markdown",
   "source": [
    "__Valuation Ratios__:"
   ],
   "metadata": {
    "collapsed": false
   },
   "id": "dd8c62275017caff"
  },
  {
   "cell_type": "code",
   "outputs": [],
   "source": [
    "# Function to calculate price to earnings ratio\n",
    "def price_to_earnings(price, eps):\n",
    "    return price / eps"
   ],
   "metadata": {
    "collapsed": false,
    "ExecuteTime": {
     "end_time": "2024-05-01T23:37:32.536847200Z",
     "start_time": "2024-05-01T23:37:32.508006400Z"
    }
   },
   "id": "51b89efdbbf80d45",
   "execution_count": 109
  },
  {
   "cell_type": "code",
   "outputs": [
    {
     "data": {
      "text/plain": "             Gross Profit Gross Profit Margin Company Operating Profit Margin  \\\n2023-12-31  53139500000.0           34.238883    SLCA               19.154239   \n2022-12-31  45495800000.0           29.830436    SLCA               11.906852   \n2021-12-31  30889600000.0           27.982777    SLCA                3.087385   \n2020-12-31  27081500000.0           32.015581    SLCA              -11.261815   \n\n           Net Profit Margin Return On Assets Return On Equity  Tax Rate  \\\n2023-12-31          9.466683         7.007798        17.299378      0.25   \n2022-12-31          5.125801          3.53006         11.22114      0.25   \n2021-12-31         -3.058397         -1.52104        -5.587581  0.074307   \n2020-12-31        -13.488122        -5.077734        -18.54403  0.342712   \n\n           Return On Invested Capital Basic EPS Diluted EPS Current Ratio  \\\n2023-12-31                222958500.0       NaN         NaN      3.232413   \n2022-12-31                136197750.0      1.04        1.01       2.41693   \n2021-12-31               31548543.133     -0.45       -0.45      2.797456   \n2020-12-31              -62614569.456     -1.55       -1.55      2.495256   \n\n           Quick Ratio Working Capital Turnover Debt To Equity Debt To Assets  \\\n2023-12-31    2.428383                 3.740768       1.075811         0.4358   \n2022-12-31    1.874087                 3.957987       1.638106       0.515332   \n2021-12-31     2.23539                 2.983102       2.153238        0.58615   \n2020-12-31    1.958126                 2.902652       2.167297        0.59345   \n\n           Interest Coverage Ratio  \n2023-12-31                2.922829  \n2022-12-31                2.340228  \n2021-12-31                0.478955  \n2020-12-31               -1.192489  ",
      "text/html": "<div>\n<style scoped>\n    .dataframe tbody tr th:only-of-type {\n        vertical-align: middle;\n    }\n\n    .dataframe tbody tr th {\n        vertical-align: top;\n    }\n\n    .dataframe thead th {\n        text-align: right;\n    }\n</style>\n<table border=\"1\" class=\"dataframe\">\n  <thead>\n    <tr style=\"text-align: right;\">\n      <th></th>\n      <th>Gross Profit</th>\n      <th>Gross Profit Margin</th>\n      <th>Company</th>\n      <th>Operating Profit Margin</th>\n      <th>Net Profit Margin</th>\n      <th>Return On Assets</th>\n      <th>Return On Equity</th>\n      <th>Tax Rate</th>\n      <th>Return On Invested Capital</th>\n      <th>Basic EPS</th>\n      <th>Diluted EPS</th>\n      <th>Current Ratio</th>\n      <th>Quick Ratio</th>\n      <th>Working Capital Turnover</th>\n      <th>Debt To Equity</th>\n      <th>Debt To Assets</th>\n      <th>Interest Coverage Ratio</th>\n    </tr>\n  </thead>\n  <tbody>\n    <tr>\n      <th>2023-12-31</th>\n      <td>53139500000.0</td>\n      <td>34.238883</td>\n      <td>SLCA</td>\n      <td>19.154239</td>\n      <td>9.466683</td>\n      <td>7.007798</td>\n      <td>17.299378</td>\n      <td>0.25</td>\n      <td>222958500.0</td>\n      <td>NaN</td>\n      <td>NaN</td>\n      <td>3.232413</td>\n      <td>2.428383</td>\n      <td>3.740768</td>\n      <td>1.075811</td>\n      <td>0.4358</td>\n      <td>2.922829</td>\n    </tr>\n    <tr>\n      <th>2022-12-31</th>\n      <td>45495800000.0</td>\n      <td>29.830436</td>\n      <td>SLCA</td>\n      <td>11.906852</td>\n      <td>5.125801</td>\n      <td>3.53006</td>\n      <td>11.22114</td>\n      <td>0.25</td>\n      <td>136197750.0</td>\n      <td>1.04</td>\n      <td>1.01</td>\n      <td>2.41693</td>\n      <td>1.874087</td>\n      <td>3.957987</td>\n      <td>1.638106</td>\n      <td>0.515332</td>\n      <td>2.340228</td>\n    </tr>\n    <tr>\n      <th>2021-12-31</th>\n      <td>30889600000.0</td>\n      <td>27.982777</td>\n      <td>SLCA</td>\n      <td>3.087385</td>\n      <td>-3.058397</td>\n      <td>-1.52104</td>\n      <td>-5.587581</td>\n      <td>0.074307</td>\n      <td>31548543.133</td>\n      <td>-0.45</td>\n      <td>-0.45</td>\n      <td>2.797456</td>\n      <td>2.23539</td>\n      <td>2.983102</td>\n      <td>2.153238</td>\n      <td>0.58615</td>\n      <td>0.478955</td>\n    </tr>\n    <tr>\n      <th>2020-12-31</th>\n      <td>27081500000.0</td>\n      <td>32.015581</td>\n      <td>SLCA</td>\n      <td>-11.261815</td>\n      <td>-13.488122</td>\n      <td>-5.077734</td>\n      <td>-18.54403</td>\n      <td>0.342712</td>\n      <td>-62614569.456</td>\n      <td>-1.55</td>\n      <td>-1.55</td>\n      <td>2.495256</td>\n      <td>1.958126</td>\n      <td>2.902652</td>\n      <td>2.167297</td>\n      <td>0.59345</td>\n      <td>-1.192489</td>\n    </tr>\n  </tbody>\n</table>\n</div>"
     },
     "execution_count": 110,
     "metadata": {},
     "output_type": "execute_result"
    }
   ],
   "source": [
    "financial_ratios.head()"
   ],
   "metadata": {
    "collapsed": false,
    "ExecuteTime": {
     "end_time": "2024-05-01T23:38:54.166332700Z",
     "start_time": "2024-05-01T23:38:54.154448400Z"
    }
   },
   "id": "c0f0d3187409e78e",
   "execution_count": 110
  },
  {
   "cell_type": "code",
   "outputs": [
    {
     "data": {
      "text/plain": "             Gross Profit Gross Profit Margin Company Operating Profit Margin  \\\n2023-12-31  53139500000.0           34.238883    SLCA               19.154239   \n2022-12-31  45495800000.0           29.830436    SLCA               11.906852   \n2021-12-31  30889600000.0           27.982777    SLCA                3.087385   \n2020-12-31  27081500000.0           32.015581    SLCA              -11.261815   \n\n           Net Profit Margin Return On Assets Return On Equity  Tax Rate  \\\n2023-12-31          9.466683         7.007798        17.299378      0.25   \n2022-12-31          5.125801          3.53006         11.22114      0.25   \n2021-12-31         -3.058397         -1.52104        -5.587581  0.074307   \n2020-12-31        -13.488122        -5.077734        -18.54403  0.342712   \n\n           Return On Invested Capital Basic EPS Diluted EPS Current Ratio  \\\n2023-12-31                222958500.0       NaN         NaN      3.232413   \n2022-12-31                136197750.0      1.04        1.01       2.41693   \n2021-12-31               31548543.133     -0.45       -0.45      2.797456   \n2020-12-31              -62614569.456     -1.55       -1.55      2.495256   \n\n           Quick Ratio Working Capital Turnover Debt To Equity Debt To Assets  \\\n2023-12-31    2.428383                 3.740768       1.075811         0.4358   \n2022-12-31    1.874087                 3.957987       1.638106       0.515332   \n2021-12-31     2.23539                 2.983102       2.153238        0.58615   \n2020-12-31    1.958126                 2.902652       2.167297        0.59345   \n\n           Interest Coverage Ratio  Close Price  \n2023-12-31                2.922829        11.31  \n2022-12-31                2.340228        12.50  \n2021-12-31                0.478955         9.40  \n2020-12-31               -1.192489         7.02  ",
      "text/html": "<div>\n<style scoped>\n    .dataframe tbody tr th:only-of-type {\n        vertical-align: middle;\n    }\n\n    .dataframe tbody tr th {\n        vertical-align: top;\n    }\n\n    .dataframe thead th {\n        text-align: right;\n    }\n</style>\n<table border=\"1\" class=\"dataframe\">\n  <thead>\n    <tr style=\"text-align: right;\">\n      <th></th>\n      <th>Gross Profit</th>\n      <th>Gross Profit Margin</th>\n      <th>Company</th>\n      <th>Operating Profit Margin</th>\n      <th>Net Profit Margin</th>\n      <th>Return On Assets</th>\n      <th>Return On Equity</th>\n      <th>Tax Rate</th>\n      <th>Return On Invested Capital</th>\n      <th>Basic EPS</th>\n      <th>Diluted EPS</th>\n      <th>Current Ratio</th>\n      <th>Quick Ratio</th>\n      <th>Working Capital Turnover</th>\n      <th>Debt To Equity</th>\n      <th>Debt To Assets</th>\n      <th>Interest Coverage Ratio</th>\n      <th>Close Price</th>\n    </tr>\n  </thead>\n  <tbody>\n    <tr>\n      <th>2023-12-31</th>\n      <td>53139500000.0</td>\n      <td>34.238883</td>\n      <td>SLCA</td>\n      <td>19.154239</td>\n      <td>9.466683</td>\n      <td>7.007798</td>\n      <td>17.299378</td>\n      <td>0.25</td>\n      <td>222958500.0</td>\n      <td>NaN</td>\n      <td>NaN</td>\n      <td>3.232413</td>\n      <td>2.428383</td>\n      <td>3.740768</td>\n      <td>1.075811</td>\n      <td>0.4358</td>\n      <td>2.922829</td>\n      <td>11.31</td>\n    </tr>\n    <tr>\n      <th>2022-12-31</th>\n      <td>45495800000.0</td>\n      <td>29.830436</td>\n      <td>SLCA</td>\n      <td>11.906852</td>\n      <td>5.125801</td>\n      <td>3.53006</td>\n      <td>11.22114</td>\n      <td>0.25</td>\n      <td>136197750.0</td>\n      <td>1.04</td>\n      <td>1.01</td>\n      <td>2.41693</td>\n      <td>1.874087</td>\n      <td>3.957987</td>\n      <td>1.638106</td>\n      <td>0.515332</td>\n      <td>2.340228</td>\n      <td>12.50</td>\n    </tr>\n    <tr>\n      <th>2021-12-31</th>\n      <td>30889600000.0</td>\n      <td>27.982777</td>\n      <td>SLCA</td>\n      <td>3.087385</td>\n      <td>-3.058397</td>\n      <td>-1.52104</td>\n      <td>-5.587581</td>\n      <td>0.074307</td>\n      <td>31548543.133</td>\n      <td>-0.45</td>\n      <td>-0.45</td>\n      <td>2.797456</td>\n      <td>2.23539</td>\n      <td>2.983102</td>\n      <td>2.153238</td>\n      <td>0.58615</td>\n      <td>0.478955</td>\n      <td>9.40</td>\n    </tr>\n    <tr>\n      <th>2020-12-31</th>\n      <td>27081500000.0</td>\n      <td>32.015581</td>\n      <td>SLCA</td>\n      <td>-11.261815</td>\n      <td>-13.488122</td>\n      <td>-5.077734</td>\n      <td>-18.54403</td>\n      <td>0.342712</td>\n      <td>-62614569.456</td>\n      <td>-1.55</td>\n      <td>-1.55</td>\n      <td>2.495256</td>\n      <td>1.958126</td>\n      <td>2.902652</td>\n      <td>2.167297</td>\n      <td>0.59345</td>\n      <td>-1.192489</td>\n      <td>7.02</td>\n    </tr>\n  </tbody>\n</table>\n</div>"
     },
     "execution_count": 113,
     "metadata": {},
     "output_type": "execute_result"
    }
   ],
   "source": [
    "# Get the close price for SLCA on the last day of each year\n",
    "SLCA['Close'].resample('YE').last()\n",
    "# Add the close price to the financial ratios dataframe\n",
    "financial_ratios['Close Price'] = SLCA['Close'].resample('YE').last()\n",
    "financial_ratios.head()"
   ],
   "metadata": {
    "collapsed": false,
    "ExecuteTime": {
     "end_time": "2024-05-01T23:40:15.622200800Z",
     "start_time": "2024-05-01T23:40:15.595330700Z"
    }
   },
   "id": "c4c96db1a753e669",
   "execution_count": 113
  },
  {
   "cell_type": "code",
   "outputs": [],
   "source": [
    "# Calculate the price to earnings ratio for SLCA basic\n",
    "financial_ratios['Price To Earnings Basic'] = price_to_earnings(financial_ratios['Close Price'], financial_ratios['Basic EPS'])"
   ],
   "metadata": {
    "collapsed": false,
    "ExecuteTime": {
     "end_time": "2024-05-01T23:40:43.696125Z",
     "start_time": "2024-05-01T23:40:43.666044700Z"
    }
   },
   "id": "bd2436e00c7a820a",
   "execution_count": 114
  },
  {
   "cell_type": "code",
   "outputs": [],
   "source": [
    "# Calculate the price to earnings ratio for SLCA diluted\n",
    "financial_ratios['Price To Earnings Diluted'] = price_to_earnings(financial_ratios['Close Price'], financial_ratios['Diluted EPS'])"
   ],
   "metadata": {
    "collapsed": false,
    "ExecuteTime": {
     "end_time": "2024-05-01T23:40:50.549496500Z",
     "start_time": "2024-05-01T23:40:50.528177200Z"
    }
   },
   "id": "176a72292a48adeb",
   "execution_count": 115
  },
  {
   "cell_type": "code",
   "outputs": [],
   "source": [
    "# Function to calculate book value per share\n",
    "def book_value_per_share(equity, shares_outstanding):\n",
    "    return equity / shares_outstanding"
   ],
   "metadata": {
    "collapsed": false,
    "ExecuteTime": {
     "end_time": "2024-05-01T23:46:08.043678700Z",
     "start_time": "2024-05-01T23:46:08.021679800Z"
    }
   },
   "id": "89ff5bc0fbbcddd0",
   "execution_count": 117
  },
  {
   "cell_type": "code",
   "outputs": [],
   "source": [
    "# Calculate the book value per share for SLCA\n",
    "financial_ratios['Book Value Per Share (Common)'] = book_value_per_share(SLCA_BS['Stockholders Equity'], SLCA_BS['Common Stock'])"
   ],
   "metadata": {
    "collapsed": false,
    "ExecuteTime": {
     "end_time": "2024-05-01T23:47:27.181523100Z",
     "start_time": "2024-05-01T23:47:27.146553500Z"
    }
   },
   "id": "eb0c6e6bc6bb48ea",
   "execution_count": 118
  },
  {
   "cell_type": "code",
   "outputs": [
    {
     "data": {
      "text/plain": "Index(['Treasury Shares Number', 'Ordinary Shares Number', 'Share Issued',\n       'Net Debt', 'Total Debt', 'Tangible Book Value', 'Invested Capital',\n       'Working Capital', 'Net Tangible Assets', 'Capital Lease Obligations',\n       'Common Stock Equity', 'Total Capitalization',\n       'Total Equity Gross Minority Interest', 'Minority Interest',\n       'Stockholders Equity', 'Gains Losses Not Affecting Retained Earnings',\n       'Other Equity Adjustments', 'Treasury Stock', 'Retained Earnings',\n       'Additional Paid In Capital', 'Capital Stock', 'Common Stock',\n       'Preferred Stock', 'Total Liabilities Net Minority Interest',\n       'Total Non Current Liabilities Net Minority Interest',\n       'Other Non Current Liabilities', 'Employee Benefits',\n       'Non Current Pension And Other Postretirement Benefit Plans',\n       'Non Current Deferred Liabilities', 'Non Current Deferred Revenue',\n       'Non Current Deferred Taxes Liabilities',\n       'Long Term Debt And Capital Lease Obligation',\n       'Long Term Capital Lease Obligation', 'Long Term Debt',\n       'Current Liabilities', 'Other Current Liabilities',\n       'Current Deferred Liabilities', 'Current Deferred Revenue',\n       'Current Debt And Capital Lease Obligation',\n       'Current Capital Lease Obligation', 'Current Debt',\n       'Other Current Borrowings',\n       'Pensionand Other Post Retirement Benefit Plans Current',\n       'Payables And Accrued Expenses', 'Current Accrued Expenses', 'Payables',\n       'Total Tax Payable', 'Income Tax Payable', 'Accounts Payable',\n       'Total Assets', 'Total Non Current Assets', 'Other Non Current Assets',\n       'Goodwill And Other Intangible Assets', 'Other Intangible Assets',\n       'Goodwill', 'Net PPE', 'Accumulated Depreciation', 'Gross PPE',\n       'Construction In Progress', 'Other Properties',\n       'Machinery Furniture Equipment', 'Buildings And Improvements',\n       'Land And Improvements', 'Current Assets', 'Other Current Assets',\n       'Prepaid Assets', 'Inventory', 'Finished Goods', 'Raw Materials',\n       'Receivables', 'Other Receivables', 'Accounts Receivable',\n       'Allowance For Doubtful Accounts Receivable',\n       'Gross Accounts Receivable',\n       'Cash Cash Equivalents And Short Term Investments',\n       'Cash And Cash Equivalents'],\n      dtype='object')"
     },
     "execution_count": 119,
     "metadata": {},
     "output_type": "execute_result"
    }
   ],
   "source": [
    "SLCA_BS.columns"
   ],
   "metadata": {
    "collapsed": false,
    "ExecuteTime": {
     "end_time": "2024-05-01T23:47:39.248344700Z",
     "start_time": "2024-05-01T23:47:39.225925Z"
    }
   },
   "id": "c3c337c3b7076acd",
   "execution_count": 119
  },
  {
   "cell_type": "code",
   "outputs": [
    {
     "data": {
      "text/plain": "2023-12-31    0.0\n2022-12-31    0.0\n2021-12-31    0.0\n2020-12-31    0.0\nName: Preferred Stock, dtype: object"
     },
     "execution_count": 121,
     "metadata": {},
     "output_type": "execute_result"
    }
   ],
   "source": [
    "SLCA_BS['Preferred Stock']"
   ],
   "metadata": {
    "collapsed": false,
    "ExecuteTime": {
     "end_time": "2024-05-01T23:48:18.894735100Z",
     "start_time": "2024-05-01T23:48:18.882670600Z"
    }
   },
   "id": "fe5d8d5ce4693e0d",
   "execution_count": 121
  },
  {
   "cell_type": "code",
   "outputs": [],
   "source": [
    "# There is no preferred stock for SLCA so we can assume that the Book Value Per Share using the common stock is appropriate."
   ],
   "metadata": {
    "collapsed": false,
    "ExecuteTime": {
     "end_time": "2024-05-01T23:50:09.986755Z",
     "start_time": "2024-05-01T23:50:09.960852800Z"
    }
   },
   "id": "afc1a6aad5f01bde",
   "execution_count": 122
  },
  {
   "cell_type": "code",
   "outputs": [],
   "source": [
    "# Function to calculate price to sales value: market price per share / annual sales per share\n",
    "def price_to_sales(price, revenue, shares_outstanding):\n",
    "    return price / (revenue / shares_outstanding)"
   ],
   "metadata": {
    "collapsed": false,
    "ExecuteTime": {
     "end_time": "2024-05-01T23:50:49.798984600Z",
     "start_time": "2024-05-01T23:50:49.778265200Z"
    }
   },
   "id": "99ce5ccb78c101b9",
   "execution_count": 123
  },
  {
   "cell_type": "code",
   "outputs": [],
   "source": [
    "# Calculate the price to sales ratio for SLCA\n",
    "financial_ratios['Price To Sales'] = price_to_sales(financial_ratios['Close Price'], SLCA_IS['Total Revenue'], SLCA_BS['Common Stock'])"
   ],
   "metadata": {
    "collapsed": false,
    "ExecuteTime": {
     "end_time": "2024-05-01T23:50:56.015929100Z",
     "start_time": "2024-05-01T23:50:55.992728200Z"
    }
   },
   "id": "fe4b58758776fec4",
   "execution_count": 124
  },
  {
   "cell_type": "code",
   "outputs": [],
   "source": [
    "# Function to calculate the market capitalization for SLCA at the end of each year\n",
    "def market_capitalization(price, shares_outstanding):\n",
    "    return price * shares_outstanding"
   ],
   "metadata": {
    "collapsed": false,
    "ExecuteTime": {
     "end_time": "2024-05-01T23:51:22.762521900Z",
     "start_time": "2024-05-01T23:51:22.731952500Z"
    }
   },
   "id": "21091ee67f98f324",
   "execution_count": 125
  },
  {
   "cell_type": "code",
   "outputs": [],
   "source": [
    "# Calculate the market capitalization for SLCA\n",
    "financial_ratios['Market Capitalization'] = market_capitalization(financial_ratios['Close Price'], SLCA_BS['Common Stock'])"
   ],
   "metadata": {
    "collapsed": false,
    "ExecuteTime": {
     "end_time": "2024-05-01T23:52:12.058930200Z",
     "start_time": "2024-05-01T23:52:12.050565400Z"
    }
   },
   "id": "7ecba78a74cf6d71",
   "execution_count": 127
  },
  {
   "cell_type": "code",
   "outputs": [],
   "source": [
    "# Function to calculate the enterprise value\n",
    "def enterprise_value(market_cap, total_debt, cash_and_cash_equivalents):\n",
    "    return market_cap + total_debt - cash_and_cash_equivalents"
   ],
   "metadata": {
    "collapsed": false,
    "ExecuteTime": {
     "end_time": "2024-05-01T23:52:33.230869500Z",
     "start_time": "2024-05-01T23:52:33.209333400Z"
    }
   },
   "id": "59d1256d81d0cb46",
   "execution_count": 128
  },
  {
   "cell_type": "code",
   "outputs": [],
   "source": [
    "# Calculate the enterprise value for SLCA\n",
    "financial_ratios['Enterprise Value'] = enterprise_value(financial_ratios['Market Capitalization'], SLCA_BS['Total Debt'], SLCA_BS['Cash And Cash Equivalents'])"
   ],
   "metadata": {
    "collapsed": false,
    "ExecuteTime": {
     "end_time": "2024-05-01T23:52:41.437553100Z",
     "start_time": "2024-05-01T23:52:41.404162600Z"
    }
   },
   "id": "7e6fdce977edc909",
   "execution_count": 129
  },
  {
   "cell_type": "code",
   "outputs": [],
   "source": [
    "# Function to calculate EV/EBITDA\n",
    "def ev_to_ebitda(ev, ebitda):\n",
    "    return ev / ebitda"
   ],
   "metadata": {
    "collapsed": false,
    "ExecuteTime": {
     "end_time": "2024-05-01T23:52:58.253884700Z",
     "start_time": "2024-05-01T23:52:58.232203700Z"
    }
   },
   "id": "b955b3e9bbfcd661",
   "execution_count": 130
  },
  {
   "cell_type": "code",
   "outputs": [],
   "source": [
    "# Calculate the EV/EBITDA for SLCA\n",
    "financial_ratios['EV/EBITDA'] = ev_to_ebitda(financial_ratios['Enterprise Value'], SLCA_IS['EBITDA'])"
   ],
   "metadata": {
    "collapsed": false,
    "ExecuteTime": {
     "end_time": "2024-05-01T23:53:05.163974100Z",
     "start_time": "2024-05-01T23:53:05.129986600Z"
    }
   },
   "id": "4cb387af961c431f",
   "execution_count": 131
  },
  {
   "cell_type": "code",
   "outputs": [],
   "source": [
    "# Function to calculate EV/Revenue\n",
    "def ev_to_revenue(ev, revenue):\n",
    "    return ev / revenue"
   ],
   "metadata": {
    "collapsed": false,
    "ExecuteTime": {
     "end_time": "2024-05-01T23:53:46.128471200Z",
     "start_time": "2024-05-01T23:53:46.113890800Z"
    }
   },
   "id": "69582631a46c9a20",
   "execution_count": 132
  },
  {
   "cell_type": "code",
   "outputs": [],
   "source": [
    "# Calculate the EV/Revenue for SLCA\n",
    "financial_ratios['EV/Revenue'] = ev_to_revenue(financial_ratios['Enterprise Value'], SLCA_IS['Total Revenue'])"
   ],
   "metadata": {
    "collapsed": false,
    "ExecuteTime": {
     "end_time": "2024-05-01T23:53:50.424859600Z",
     "start_time": "2024-05-01T23:53:50.399825100Z"
    }
   },
   "id": "6f99f66d6287d0f6",
   "execution_count": 133
  },
  {
   "cell_type": "code",
   "outputs": [],
   "source": [
    "# Function to calculate EV/Operating Income\n",
    "def ev_to_operating_income(ev, operating_income):\n",
    "    return ev / operating_income"
   ],
   "metadata": {
    "collapsed": false,
    "ExecuteTime": {
     "end_time": "2024-05-01T23:53:57.028605100Z",
     "start_time": "2024-05-01T23:53:56.996231300Z"
    }
   },
   "id": "f997d25c0dd39fce",
   "execution_count": 134
  },
  {
   "cell_type": "code",
   "outputs": [],
   "source": [
    "# Calculate the EV/Operating Income for SLCA\n",
    "financial_ratios['EV/Operating Income'] = ev_to_operating_income(financial_ratios['Enterprise Value'], SLCA_IS['Operating Income'])"
   ],
   "metadata": {
    "collapsed": false,
    "ExecuteTime": {
     "end_time": "2024-05-01T23:54:02.204296700Z",
     "start_time": "2024-05-01T23:54:02.173966600Z"
    }
   },
   "id": "9315ef9f394ac7f5",
   "execution_count": 135
  },
  {
   "cell_type": "code",
   "outputs": [],
   "source": [
    "# Function to calculate EV/Free Cash Flow\n",
    "def ev_to_free_cash_flow(ev, free_cash_flow):\n",
    "    return ev / free_cash_flow"
   ],
   "metadata": {
    "collapsed": false,
    "ExecuteTime": {
     "end_time": "2024-05-01T23:55:06.599049800Z",
     "start_time": "2024-05-01T23:55:06.568077700Z"
    }
   },
   "id": "fcb801f8c8d8d942",
   "execution_count": 136
  },
  {
   "cell_type": "code",
   "outputs": [],
   "source": [
    "# Calculate the EV/Free Cash Flow for SLCA\n",
    "financial_ratios['EV/Free Cash Flow'] = ev_to_free_cash_flow(financial_ratios['Enterprise Value'], SLCA_CF['Free Cash Flow'])"
   ],
   "metadata": {
    "collapsed": false,
    "ExecuteTime": {
     "end_time": "2024-05-02T00:05:48.789466200Z",
     "start_time": "2024-05-02T00:05:48.769014900Z"
    }
   },
   "id": "8c7827f95f3ee8a8",
   "execution_count": 139
  },
  {
   "cell_type": "code",
   "outputs": [
    {
     "data": {
      "text/plain": "Index(['Free Cash Flow', 'Repurchase Of Capital Stock', 'Repayment Of Debt',\n       'Issuance Of Debt', 'Capital Expenditure',\n       'Interest Paid Supplemental Data', 'Income Tax Paid Supplemental Data',\n       'End Cash Position', 'Beginning Cash Position', 'Changes In Cash',\n       'Financing Cash Flow', 'Cash Flow From Continuing Financing Activities',\n       'Net Other Financing Charges', 'Proceeds From Stock Option Exercised',\n       'Cash Dividends Paid', 'Common Stock Dividend Paid',\n       'Net Common Stock Issuance', 'Common Stock Payments',\n       'Net Issuance Payments Of Debt', 'Net Short Term Debt Issuance',\n       'Short Term Debt Payments', 'Short Term Debt Issuance',\n       'Net Long Term Debt Issuance', 'Long Term Debt Payments',\n       'Long Term Debt Issuance', 'Investing Cash Flow',\n       'Cash Flow From Continuing Investing Activities',\n       'Net Business Purchase And Sale', 'Purchase Of Business',\n       'Net PPE Purchase And Sale', 'Sale Of PPE',\n       'Capital Expenditure Reported', 'Operating Cash Flow',\n       'Cash Flow From Continuing Operating Activities',\n       'Change In Working Capital', 'Change In Other Working Capital',\n       'Change In Other Current Liabilities',\n       'Change In Payables And Accrued Expense', 'Change In Payable',\n       'Change In Account Payable', 'Change In Tax Payable',\n       'Change In Income Tax Payable', 'Change In Prepaid Assets',\n       'Change In Inventory', 'Change In Receivables',\n       'Changes In Account Receivables', 'Other Non Cash Items',\n       'Stock Based Compensation', 'Provisionand Write Offof Assets',\n       'Asset Impairment Charge', 'Deferred Tax', 'Deferred Income Tax',\n       'Depreciation Amortization Depletion', 'Operating Gains Losses',\n       'Gain Loss On Sale Of PPE', 'Net Income From Continuing Operations'],\n      dtype='object')"
     },
     "execution_count": 143,
     "metadata": {},
     "output_type": "execute_result"
    }
   ],
   "source": [
    "SLCA_CF.columns"
   ],
   "metadata": {
    "collapsed": false,
    "ExecuteTime": {
     "end_time": "2024-05-02T00:15:16.991035Z",
     "start_time": "2024-05-02T00:15:16.970809500Z"
    }
   },
   "id": "896e8763131b9c01",
   "execution_count": 143
  },
  {
   "cell_type": "markdown",
   "source": [
    "__Discounted Cash Flow__:"
   ],
   "metadata": {
    "collapsed": false
   },
   "id": "86c38af7f288cbca"
  },
  {
   "cell_type": "code",
   "outputs": [],
   "source": [
    "# Get the free cash flow\n",
    "free_cash_flow = SLCA_CF['Free Cash Flow']\n",
    "# Expected annual growth rate of cash flow\n",
    "rate = 0.05\n",
    "# I put 5 percent but will do more work on this later"
   ],
   "metadata": {
    "collapsed": false,
    "ExecuteTime": {
     "end_time": "2024-05-02T00:17:46.522073300Z",
     "start_time": "2024-05-02T00:17:46.506099200Z"
    }
   },
   "id": "90993c6838bf2747",
   "execution_count": 145
  },
  {
   "cell_type": "code",
   "outputs": [],
   "source": [
    "# Calculate the weighted average cost of capital\n",
    "# wacc = ((e/v) * Re) + ((d/v) * Rd * (1 - TC))\n",
    "e ="
   ],
   "metadata": {
    "collapsed": false,
    "ExecuteTime": {
     "end_time": "2024-05-02T00:19:47.458410800Z",
     "start_time": "2024-05-02T00:19:47.428245600Z"
    }
   },
   "id": "ce668988cdb9c5b6",
   "execution_count": 146
  },
  {
   "cell_type": "code",
   "outputs": [],
   "source": [],
   "metadata": {
    "collapsed": false
   },
   "id": "b3333b3683a75f45"
  }
 ],
 "metadata": {
  "kernelspec": {
   "display_name": "Python 3",
   "language": "python",
   "name": "python3"
  },
  "language_info": {
   "codemirror_mode": {
    "name": "ipython",
    "version": 2
   },
   "file_extension": ".py",
   "mimetype": "text/x-python",
   "name": "python",
   "nbconvert_exporter": "python",
   "pygments_lexer": "ipython2",
   "version": "2.7.6"
  }
 },
 "nbformat": 4,
 "nbformat_minor": 5
}
